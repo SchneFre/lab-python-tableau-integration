{
 "cells": [
  {
   "cell_type": "code",
   "execution_count": 2,
   "id": "4ad00b64",
   "metadata": {},
   "outputs": [
    {
     "data": {
      "text/html": [
       "<div>\n",
       "<style scoped>\n",
       "    .dataframe tbody tr th:only-of-type {\n",
       "        vertical-align: middle;\n",
       "    }\n",
       "\n",
       "    .dataframe tbody tr th {\n",
       "        vertical-align: top;\n",
       "    }\n",
       "\n",
       "    .dataframe thead th {\n",
       "        text-align: right;\n",
       "    }\n",
       "</style>\n",
       "<table border=\"1\" class=\"dataframe\">\n",
       "  <thead>\n",
       "    <tr style=\"text-align: right;\">\n",
       "      <th></th>\n",
       "      <th>id</th>\n",
       "      <th>name</th>\n",
       "      <th>host_id</th>\n",
       "      <th>host_name</th>\n",
       "      <th>neighbourhood_group</th>\n",
       "      <th>neighbourhood</th>\n",
       "      <th>latitude</th>\n",
       "      <th>longitude</th>\n",
       "      <th>room_type</th>\n",
       "      <th>price</th>\n",
       "      <th>minimum_nights</th>\n",
       "      <th>number_of_reviews</th>\n",
       "      <th>last_review</th>\n",
       "      <th>reviews_per_month</th>\n",
       "      <th>calculated_host_listings_count</th>\n",
       "      <th>availability_365</th>\n",
       "      <th>number_of_reviews_ltm</th>\n",
       "    </tr>\n",
       "  </thead>\n",
       "  <tbody>\n",
       "    <tr>\n",
       "      <th>0</th>\n",
       "      <td>2539.0</td>\n",
       "      <td>Superfast Wi-Fi.  Clean &amp; quiet home by the park</td>\n",
       "      <td>2787</td>\n",
       "      <td>John</td>\n",
       "      <td>Brooklyn</td>\n",
       "      <td>Kensington</td>\n",
       "      <td>40.64529</td>\n",
       "      <td>-73.97238</td>\n",
       "      <td>Private room</td>\n",
       "      <td>NaN</td>\n",
       "      <td>30</td>\n",
       "      <td>9</td>\n",
       "      <td>10/19/2018</td>\n",
       "      <td>0.08</td>\n",
       "      <td>5</td>\n",
       "      <td>343</td>\n",
       "      <td>0</td>\n",
       "    </tr>\n",
       "    <tr>\n",
       "      <th>1</th>\n",
       "      <td>2595.0</td>\n",
       "      <td>Skylit Midtown Manhattan Spacious Studio</td>\n",
       "      <td>2845</td>\n",
       "      <td>Jennifer</td>\n",
       "      <td>Manhattan</td>\n",
       "      <td>Midtown</td>\n",
       "      <td>40.75356</td>\n",
       "      <td>-73.98559</td>\n",
       "      <td>Entire home/apt</td>\n",
       "      <td>240.0</td>\n",
       "      <td>30</td>\n",
       "      <td>49</td>\n",
       "      <td>6/21/2022</td>\n",
       "      <td>0.26</td>\n",
       "      <td>3</td>\n",
       "      <td>365</td>\n",
       "      <td>0</td>\n",
       "    </tr>\n",
       "    <tr>\n",
       "      <th>2</th>\n",
       "      <td>5136.0</td>\n",
       "      <td>Spacious Family Friendly Duplex w/ Patio + Yard</td>\n",
       "      <td>7378</td>\n",
       "      <td>Rebecca</td>\n",
       "      <td>Brooklyn</td>\n",
       "      <td>Sunset Park</td>\n",
       "      <td>40.66265</td>\n",
       "      <td>-73.99454</td>\n",
       "      <td>Entire home/apt</td>\n",
       "      <td>216.0</td>\n",
       "      <td>30</td>\n",
       "      <td>4</td>\n",
       "      <td>8/20/2023</td>\n",
       "      <td>0.03</td>\n",
       "      <td>1</td>\n",
       "      <td>37</td>\n",
       "      <td>0</td>\n",
       "    </tr>\n",
       "    <tr>\n",
       "      <th>3</th>\n",
       "      <td>6848.0</td>\n",
       "      <td>Only 2 stops to Manhattan studio</td>\n",
       "      <td>15991</td>\n",
       "      <td>Allen</td>\n",
       "      <td>Brooklyn</td>\n",
       "      <td>Williamsburg</td>\n",
       "      <td>40.70935</td>\n",
       "      <td>-73.95342</td>\n",
       "      <td>Entire home/apt</td>\n",
       "      <td>96.0</td>\n",
       "      <td>30</td>\n",
       "      <td>195</td>\n",
       "      <td>4/1/2025</td>\n",
       "      <td>1.00</td>\n",
       "      <td>1</td>\n",
       "      <td>182</td>\n",
       "      <td>4</td>\n",
       "    </tr>\n",
       "    <tr>\n",
       "      <th>4</th>\n",
       "      <td>6872.0</td>\n",
       "      <td>Uptown Sanctuary w/ Private Bath (Month to Month)</td>\n",
       "      <td>16104</td>\n",
       "      <td>Kahshanna</td>\n",
       "      <td>Manhattan</td>\n",
       "      <td>East Harlem</td>\n",
       "      <td>40.80107</td>\n",
       "      <td>-73.94255</td>\n",
       "      <td>Private room</td>\n",
       "      <td>59.0</td>\n",
       "      <td>30</td>\n",
       "      <td>1</td>\n",
       "      <td>6/5/2022</td>\n",
       "      <td>0.03</td>\n",
       "      <td>2</td>\n",
       "      <td>83</td>\n",
       "      <td>0</td>\n",
       "    </tr>\n",
       "  </tbody>\n",
       "</table>\n",
       "</div>"
      ],
      "text/plain": [
       "       id                                               name  host_id  \\\n",
       "0  2539.0   Superfast Wi-Fi.  Clean & quiet home by the park     2787   \n",
       "1  2595.0           Skylit Midtown Manhattan Spacious Studio     2845   \n",
       "2  5136.0    Spacious Family Friendly Duplex w/ Patio + Yard     7378   \n",
       "3  6848.0                   Only 2 stops to Manhattan studio    15991   \n",
       "4  6872.0  Uptown Sanctuary w/ Private Bath (Month to Month)    16104   \n",
       "\n",
       "   host_name neighbourhood_group neighbourhood  latitude  longitude  \\\n",
       "0       John            Brooklyn    Kensington  40.64529  -73.97238   \n",
       "1   Jennifer           Manhattan       Midtown  40.75356  -73.98559   \n",
       "2    Rebecca            Brooklyn   Sunset Park  40.66265  -73.99454   \n",
       "3      Allen            Brooklyn  Williamsburg  40.70935  -73.95342   \n",
       "4  Kahshanna           Manhattan   East Harlem  40.80107  -73.94255   \n",
       "\n",
       "         room_type  price  minimum_nights  number_of_reviews last_review  \\\n",
       "0     Private room    NaN              30                  9  10/19/2018   \n",
       "1  Entire home/apt  240.0              30                 49   6/21/2022   \n",
       "2  Entire home/apt  216.0              30                  4   8/20/2023   \n",
       "3  Entire home/apt   96.0              30                195    4/1/2025   \n",
       "4     Private room   59.0              30                  1    6/5/2022   \n",
       "\n",
       "   reviews_per_month  calculated_host_listings_count  availability_365  \\\n",
       "0               0.08                               5               343   \n",
       "1               0.26                               3               365   \n",
       "2               0.03                               1                37   \n",
       "3               1.00                               1               182   \n",
       "4               0.03                               2                83   \n",
       "\n",
       "   number_of_reviews_ltm  \n",
       "0                      0  \n",
       "1                      0  \n",
       "2                      0  \n",
       "3                      4  \n",
       "4                      0  "
      ]
     },
     "execution_count": 2,
     "metadata": {},
     "output_type": "execute_result"
    }
   ],
   "source": [
    "# Libraries\n",
    "import pandas as pd\n",
    "berlin = pd.read_csv(\"dataset/airbnb_listings.csv\")\n",
    "berlin.head()"
   ]
  },
  {
   "cell_type": "code",
   "execution_count": 3,
   "id": "38ad3235",
   "metadata": {},
   "outputs": [
    {
     "data": {
      "text/plain": [
       "0    False\n",
       "1     True\n",
       "2     True\n",
       "3    False\n",
       "4    False\n",
       "Name: high_price, dtype: bool"
      ]
     },
     "execution_count": 3,
     "metadata": {},
     "output_type": "execute_result"
    }
   ],
   "source": [
    "def add_high_price_indicator(arg1):\n",
    "\n",
    "    if arg1 > 100:\n",
    "        return True\n",
    "    else:\n",
    "        return False\n",
    "    \n",
    "berlin['high_price'] = berlin['price'].apply(add_high_price_indicator)\n",
    "\n",
    "berlin['high_price'].head()\n"
   ]
  },
  {
   "cell_type": "code",
   "execution_count": 4,
   "id": "14cb49b9",
   "metadata": {},
   "outputs": [
    {
     "data": {
      "text/plain": [
       "0    expensive\n",
       "1    expensive\n",
       "2    expensive\n",
       "3       medium\n",
       "4        cheap\n",
       "Name: property_category, dtype: object"
      ]
     },
     "execution_count": 4,
     "metadata": {},
     "output_type": "execute_result"
    }
   ],
   "source": [
    "def property_category(arg1):\n",
    "\n",
    "    if arg1 > 50 and arg1 <= 80:\n",
    "        return \"cheap\"\n",
    "    elif arg1 > 80 and arg1 < 100:\n",
    "        return \"medium\"\n",
    "    else:\n",
    "        return \"expensive\"\n",
    "    \n",
    "berlin['property_category'] = berlin['price'].apply(property_category)\n",
    "\n",
    "berlin['property_category'].head()\n"
   ]
  },
  {
   "cell_type": "code",
   "execution_count": 5,
   "id": "ed1a6662",
   "metadata": {},
   "outputs": [
    {
     "data": {
      "text/plain": [
       "0         NaN\n",
       "1    0.204167\n",
       "2    0.018519\n",
       "3    2.031250\n",
       "4    0.016949\n",
       "Name: price_per_review, dtype: float64"
      ]
     },
     "execution_count": 5,
     "metadata": {},
     "output_type": "execute_result"
    }
   ],
   "source": [
    "def price_per_review(arg):\n",
    "    arg1 = arg['price']\n",
    "    arg2 = arg[\"number_of_reviews\"]\n",
    "\n",
    "    return arg2 / arg1\n",
    "\n",
    "berlin['price_per_review'] = berlin.apply(price_per_review, axis=1)\n",
    "\n",
    "\n",
    "berlin['price_per_review'].head()\n"
   ]
  },
  {
   "cell_type": "code",
   "execution_count": 6,
   "id": "5338972f",
   "metadata": {},
   "outputs": [
    {
     "data": {
      "text/plain": [
       "0    5\n",
       "1    5\n",
       "2    1\n",
       "3    2\n",
       "4    1\n",
       "Name: availability_score, dtype: int64"
      ]
     },
     "execution_count": 6,
     "metadata": {},
     "output_type": "execute_result"
    }
   ],
   "source": [
    "def availability_score(arg1):\n",
    "    if arg1 > 300:\n",
    "        return 5\n",
    "    elif arg1 <= 300 and arg1 > 250:\n",
    "        return 4\n",
    "    elif arg1 <= 250 and arg1 > 200:\n",
    "        return 3\n",
    "    elif arg1 <= 200 and arg1 > 150:\n",
    "        return 2\n",
    "    else:\n",
    "        return 1\n",
    "\n",
    "berlin['availability_score'] = berlin['availability_365'].apply(availability_score)\n",
    "\n",
    "berlin['availability_score'].head()"
   ]
  }
 ],
 "metadata": {
  "kernelspec": {
   "display_name": "Python 3",
   "language": "python",
   "name": "python3"
  },
  "language_info": {
   "codemirror_mode": {
    "name": "ipython",
    "version": 3
   },
   "file_extension": ".py",
   "mimetype": "text/x-python",
   "name": "python",
   "nbconvert_exporter": "python",
   "pygments_lexer": "ipython3",
   "version": "3.9.13"
  }
 },
 "nbformat": 4,
 "nbformat_minor": 5
}
